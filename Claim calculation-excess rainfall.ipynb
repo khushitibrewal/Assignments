{
 "cells": [
  {
   "cell_type": "code",
   "execution_count": 1,
   "id": "98b72bc6",
   "metadata": {},
   "outputs": [],
   "source": [
    "import pandas as pd"
   ]
  },
  {
   "cell_type": "code",
   "execution_count": 2,
   "id": "88a5670f",
   "metadata": {},
   "outputs": [
    {
     "data": {
      "text/html": [
       "<div>\n",
       "<style scoped>\n",
       "    .dataframe tbody tr th:only-of-type {\n",
       "        vertical-align: middle;\n",
       "    }\n",
       "\n",
       "    .dataframe tbody tr th {\n",
       "        vertical-align: top;\n",
       "    }\n",
       "\n",
       "    .dataframe thead th {\n",
       "        text-align: right;\n",
       "    }\n",
       "</style>\n",
       "<table border=\"1\" class=\"dataframe\">\n",
       "  <thead>\n",
       "    <tr style=\"text-align: right;\">\n",
       "      <th></th>\n",
       "      <th>Region</th>\n",
       "      <th>Date</th>\n",
       "      <th>Rainfall_mm</th>\n",
       "    </tr>\n",
       "  </thead>\n",
       "  <tbody>\n",
       "    <tr>\n",
       "      <th>0</th>\n",
       "      <td>Region_A</td>\n",
       "      <td>2024-01-01</td>\n",
       "      <td>4.965</td>\n",
       "    </tr>\n",
       "    <tr>\n",
       "      <th>1</th>\n",
       "      <td>Region_A</td>\n",
       "      <td>2024-01-02</td>\n",
       "      <td>27.729</td>\n",
       "    </tr>\n",
       "    <tr>\n",
       "      <th>2</th>\n",
       "      <td>Region_A</td>\n",
       "      <td>2024-01-03</td>\n",
       "      <td>12.881</td>\n",
       "    </tr>\n",
       "    <tr>\n",
       "      <th>3</th>\n",
       "      <td>Region_A</td>\n",
       "      <td>2024-01-04</td>\n",
       "      <td>32.818</td>\n",
       "    </tr>\n",
       "    <tr>\n",
       "      <th>4</th>\n",
       "      <td>Region_A</td>\n",
       "      <td>2024-01-05</td>\n",
       "      <td>36.127</td>\n",
       "    </tr>\n",
       "  </tbody>\n",
       "</table>\n",
       "</div>"
      ],
      "text/plain": [
       "     Region       Date  Rainfall_mm\n",
       "0  Region_A 2024-01-01        4.965\n",
       "1  Region_A 2024-01-02       27.729\n",
       "2  Region_A 2024-01-03       12.881\n",
       "3  Region_A 2024-01-04       32.818\n",
       "4  Region_A 2024-01-05       36.127"
      ]
     },
     "execution_count": 2,
     "metadata": {},
     "output_type": "execute_result"
    }
   ],
   "source": [
    "# using pandas we will read data in python\n",
    "data= pd.read_excel(\"InRisk_Labs_Assignment.xlsx\")\n",
    "data.head()"
   ]
  },
  {
   "cell_type": "code",
   "execution_count": 8,
   "id": "53fd7694",
   "metadata": {},
   "outputs": [
    {
     "name": "stdout",
     "output_type": "stream",
     "text": [
      "[-63.016999999999996, -21.957, 1843648546.3]\n"
     ]
    }
   ],
   "source": [
    "# Handling anomalies and outliers\n",
    "# There are some negative values and some extreme positive values which are no possible.\n",
    "\n",
    "\n",
    "x=data.Rainfall_mm[(data.Rainfall_mm<0) | (data.Rainfall_mm>5000)]\n",
    "y=x.tolist()\n",
    "print(y)\n",
    "\n",
    "# We are replacing such values with zero(0)\n",
    "data.replace(y,0,inplace=True)"
   ]
  },
  {
   "cell_type": "code",
   "execution_count": 9,
   "id": "9af04196",
   "metadata": {},
   "outputs": [
    {
     "data": {
      "text/html": [
       "<div>\n",
       "<style scoped>\n",
       "    .dataframe tbody tr th:only-of-type {\n",
       "        vertical-align: middle;\n",
       "    }\n",
       "\n",
       "    .dataframe tbody tr th {\n",
       "        vertical-align: top;\n",
       "    }\n",
       "\n",
       "    .dataframe thead th {\n",
       "        text-align: right;\n",
       "    }\n",
       "</style>\n",
       "<table border=\"1\" class=\"dataframe\">\n",
       "  <thead>\n",
       "    <tr style=\"text-align: right;\">\n",
       "      <th></th>\n",
       "      <th>Region</th>\n",
       "      <th>Date</th>\n",
       "      <th>Rainfall_mm</th>\n",
       "    </tr>\n",
       "  </thead>\n",
       "  <tbody>\n",
       "    <tr>\n",
       "      <th>5</th>\n",
       "      <td>Region_A</td>\n",
       "      <td>2024-01-06</td>\n",
       "      <td>67.575</td>\n",
       "    </tr>\n",
       "    <tr>\n",
       "      <th>11</th>\n",
       "      <td>Region_A</td>\n",
       "      <td>2024-01-12</td>\n",
       "      <td>67.890</td>\n",
       "    </tr>\n",
       "    <tr>\n",
       "      <th>12</th>\n",
       "      <td>Region_A</td>\n",
       "      <td>2024-01-13</td>\n",
       "      <td>75.535</td>\n",
       "    </tr>\n",
       "    <tr>\n",
       "      <th>13</th>\n",
       "      <td>Region_A</td>\n",
       "      <td>2024-01-14</td>\n",
       "      <td>70.623</td>\n",
       "    </tr>\n",
       "    <tr>\n",
       "      <th>14</th>\n",
       "      <td>Region_A</td>\n",
       "      <td>2024-01-15</td>\n",
       "      <td>74.195</td>\n",
       "    </tr>\n",
       "  </tbody>\n",
       "</table>\n",
       "</div>"
      ],
      "text/plain": [
       "      Region       Date  Rainfall_mm\n",
       "5   Region_A 2024-01-06       67.575\n",
       "11  Region_A 2024-01-12       67.890\n",
       "12  Region_A 2024-01-13       75.535\n",
       "13  Region_A 2024-01-14       70.623\n",
       "14  Region_A 2024-01-15       74.195"
      ]
     },
     "execution_count": 9,
     "metadata": {},
     "output_type": "execute_result"
    }
   ],
   "source": [
    "# Now we will create a separate dataset for all the days with excess rainfall\n",
    "\n",
    "excess_data= data[data.Rainfall_mm>60]\n",
    "excess_data.head()"
   ]
  },
  {
   "cell_type": "code",
   "execution_count": 10,
   "id": "e467fb6a",
   "metadata": {},
   "outputs": [
    {
     "data": {
      "text/plain": [
       "array(['Region_A', 'Region_B', 'Region_C', 'Region_D', 'Region_E'],\n",
       "      dtype=object)"
      ]
     },
     "execution_count": 10,
     "metadata": {},
     "output_type": "execute_result"
    }
   ],
   "source": [
    "# Creating a dataset for unique regions\n",
    "\n",
    "region= excess_data['Region'].unique()\n",
    "region"
   ]
  },
  {
   "cell_type": "code",
   "execution_count": 13,
   "id": "f127bf84",
   "metadata": {},
   "outputs": [
    {
     "data": {
      "text/plain": [
       "[36, 37, 43, 35, 31]"
      ]
     },
     "execution_count": 13,
     "metadata": {},
     "output_type": "execute_result"
    }
   ],
   "source": [
    "# Now we will count number of days with excess rainfall in each region\n",
    "excess_rainfall_days=[]\n",
    "\n",
    "for i in region:\n",
    "    excess_rainfall_days.append(len(excess_data[excess_data.Region==i]))\n",
    "\n",
    "excess_rainfall_days"
   ]
  },
  {
   "cell_type": "code",
   "execution_count": 14,
   "id": "2ab4cdc1",
   "metadata": {},
   "outputs": [
    {
     "data": {
      "text/plain": [
       "[3200, 3400, 4600, 3000, 2200]"
      ]
     },
     "execution_count": 14,
     "metadata": {},
     "output_type": "execute_result"
    }
   ],
   "source": [
    "# Now we will calculate claim amount basis data given\n",
    "\n",
    "Claim_amount=[]\n",
    "\n",
    "for i in excess_rainfall_days:\n",
    "    \n",
    "    amount=0\n",
    "    if i<=10:\n",
    "        pass\n",
    "    elif 10<i<=30:\n",
    "        amount= 100*(i-10)\n",
    "    elif 30<i<50:\n",
    "        amount=200*(i-30)+100*20\n",
    "    else:\n",
    "        amount= 300*(i-50)+200*20+100*20\n",
    "    Claim_amount.append(amount)\n",
    "    \n",
    "Claim_amount"
   ]
  },
  {
   "cell_type": "code",
   "execution_count": 15,
   "id": "da1adf18",
   "metadata": {},
   "outputs": [
    {
     "data": {
      "text/html": [
       "<div>\n",
       "<style scoped>\n",
       "    .dataframe tbody tr th:only-of-type {\n",
       "        vertical-align: middle;\n",
       "    }\n",
       "\n",
       "    .dataframe tbody tr th {\n",
       "        vertical-align: top;\n",
       "    }\n",
       "\n",
       "    .dataframe thead th {\n",
       "        text-align: right;\n",
       "    }\n",
       "</style>\n",
       "<table border=\"1\" class=\"dataframe\">\n",
       "  <thead>\n",
       "    <tr style=\"text-align: right;\">\n",
       "      <th></th>\n",
       "      <th>Region</th>\n",
       "      <th>Days of excess rainfall</th>\n",
       "      <th>Claim amount</th>\n",
       "    </tr>\n",
       "  </thead>\n",
       "  <tbody>\n",
       "    <tr>\n",
       "      <th>0</th>\n",
       "      <td>Region_A</td>\n",
       "      <td>36</td>\n",
       "      <td>3200</td>\n",
       "    </tr>\n",
       "    <tr>\n",
       "      <th>1</th>\n",
       "      <td>Region_B</td>\n",
       "      <td>37</td>\n",
       "      <td>3400</td>\n",
       "    </tr>\n",
       "    <tr>\n",
       "      <th>2</th>\n",
       "      <td>Region_C</td>\n",
       "      <td>43</td>\n",
       "      <td>4600</td>\n",
       "    </tr>\n",
       "    <tr>\n",
       "      <th>3</th>\n",
       "      <td>Region_D</td>\n",
       "      <td>35</td>\n",
       "      <td>3000</td>\n",
       "    </tr>\n",
       "    <tr>\n",
       "      <th>4</th>\n",
       "      <td>Region_E</td>\n",
       "      <td>31</td>\n",
       "      <td>2200</td>\n",
       "    </tr>\n",
       "  </tbody>\n",
       "</table>\n",
       "</div>"
      ],
      "text/plain": [
       "     Region  Days of excess rainfall  Claim amount\n",
       "0  Region_A                       36          3200\n",
       "1  Region_B                       37          3400\n",
       "2  Region_C                       43          4600\n",
       "3  Region_D                       35          3000\n",
       "4  Region_E                       31          2200"
      ]
     },
     "execution_count": 15,
     "metadata": {},
     "output_type": "execute_result"
    }
   ],
   "source": [
    "# Represnting region, excess rainfall days and cliam amount in a separate table\n",
    "\n",
    "Claim_cal= pd.DataFrame({'Region':region, 'Days of excess rainfall': excess_rainfall_days,'Claim amount': Claim_amount})\n",
    "\n",
    "Claim_cal"
   ]
  },
  {
   "cell_type": "code",
   "execution_count": 16,
   "id": "2c0ac656",
   "metadata": {},
   "outputs": [],
   "source": [
    "# Converting final output to excel sheet\n",
    "\n",
    "Claim_cal.to_excel(\"Claim_cal.xlsx\", index=False)"
   ]
  },
  {
   "cell_type": "code",
   "execution_count": null,
   "id": "11f11b07",
   "metadata": {},
   "outputs": [],
   "source": []
  }
 ],
 "metadata": {
  "kernelspec": {
   "display_name": "Python 3 (ipykernel)",
   "language": "python",
   "name": "python3"
  },
  "language_info": {
   "codemirror_mode": {
    "name": "ipython",
    "version": 3
   },
   "file_extension": ".py",
   "mimetype": "text/x-python",
   "name": "python",
   "nbconvert_exporter": "python",
   "pygments_lexer": "ipython3",
   "version": "3.11.5"
  }
 },
 "nbformat": 4,
 "nbformat_minor": 5
}
